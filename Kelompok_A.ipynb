{
  "nbformat": 4,
  "nbformat_minor": 0,
  "metadata": {
    "colab": {
      "provenance": [],
      "collapsed_sections": [
        "2uUMOdJjyk6t",
        "aCTDJW1kyp1c",
        "QmhtMI96zhet",
        "3fCUY9vv2S56",
        "aIHi0u1D3beD",
        "jHn7lMDNBouD",
        "Wdjrue6tN5YA"
      ],
      "include_colab_link": true
    },
    "kernelspec": {
      "name": "python3",
      "display_name": "Python 3"
    },
    "language_info": {
      "name": "python"
    }
  },
  "cells": [
    {
      "cell_type": "markdown",
      "metadata": {
        "id": "view-in-github",
        "colab_type": "text"
      },
      "source": [
        "<a href=\"https://colab.research.google.com/github/widyadaridhyp/Rakamin/blob/main/Kelompok_A.ipynb\" target=\"_parent\"><img src=\"https://colab.research.google.com/assets/colab-badge.svg\" alt=\"Open In Colab\"/></a>"
      ]
    },
    {
      "cell_type": "markdown",
      "source": [
        "# Kelompok A\n",
        "Anggota:\n",
        "1. Widyadari Dhiya Parahita"
      ],
      "metadata": {
        "id": "vq7D4fhXXEui"
      }
    },
    {
      "cell_type": "markdown",
      "source": [
        "## No.1"
      ],
      "metadata": {
        "id": "2uUMOdJjyk6t"
      }
    },
    {
      "cell_type": "code",
      "execution_count": null,
      "metadata": {
        "id": "B82KFzN8hvB8"
      },
      "outputs": [],
      "source": [
        "list_plat_mobil = ['B 1234 AB', 'B 6721 TY', 'B 1233 AY', 'B 6629 DD', 'B 1111 AM', 'B 6726 D', 'D 11223 KJ', 'AE 44677 GH', 'AE 67269 AA']\n",
        "\n",
        "jumlah_plat_genap = 0\n",
        "jumlah_plat_ganjil = 0\n",
        "\n",
        "for plat in list_plat_mobil:\n",
        "    nomor_plat = ''.join(filter(str.isdigit, plat))\n",
        "    nomor_plat = int(nomor_plat)\n",
        "\n",
        "    if nomor_plat % 2 == 0:\n",
        "        jumlah_plat_genap += 1\n",
        "    else:\n",
        "        jumlah_plat_ganjil += 1"
      ]
    },
    {
      "cell_type": "code",
      "source": [
        "print(\"Jumlah plat genap:\", jumlah_plat_genap)\n",
        "print(\"Jumlah plat ganjil:\", jumlah_plat_ganjil)"
      ],
      "metadata": {
        "colab": {
          "base_uri": "https://localhost:8080/"
        },
        "id": "CPOuWbMYyhTx",
        "outputId": "903de42e-4f55-4f21-af38-2a26e0cddc59"
      },
      "execution_count": null,
      "outputs": [
        {
          "output_type": "stream",
          "name": "stdout",
          "text": [
            "Jumlah plat genap: 2\n",
            "Jumlah plat ganjil: 7\n"
          ]
        }
      ]
    },
    {
      "cell_type": "markdown",
      "source": [
        "## No.2"
      ],
      "metadata": {
        "id": "aCTDJW1kyp1c"
      }
    },
    {
      "cell_type": "code",
      "source": [
        "a, b = 2, 3"
      ],
      "metadata": {
        "id": "3DeSkOsIyjGs"
      },
      "execution_count": null,
      "outputs": []
    },
    {
      "cell_type": "code",
      "source": [
        "fibonacci = [a, b]"
      ],
      "metadata": {
        "id": "_NzPt4y6zOYp"
      },
      "execution_count": null,
      "outputs": []
    },
    {
      "cell_type": "code",
      "source": [
        "jumlah_angka = 10"
      ],
      "metadata": {
        "id": "T6MBTwS2zSHD"
      },
      "execution_count": null,
      "outputs": []
    },
    {
      "cell_type": "code",
      "source": [
        "for i in range(jumlah_angka):\n",
        "    a, b = b, a + b\n",
        "    fibonacci.append(b)"
      ],
      "metadata": {
        "id": "HViKz6-UzYpR"
      },
      "execution_count": null,
      "outputs": []
    },
    {
      "cell_type": "code",
      "source": [
        "fibonacci"
      ],
      "metadata": {
        "colab": {
          "base_uri": "https://localhost:8080/"
        },
        "id": "-qOI-Y-uzbQp",
        "outputId": "e3738e0b-778c-49ac-db06-1da2b17d21b0"
      },
      "execution_count": null,
      "outputs": [
        {
          "output_type": "execute_result",
          "data": {
            "text/plain": [
              "[2, 3, 5, 8, 13, 21, 34, 55, 89, 144, 233, 377]"
            ]
          },
          "metadata": {},
          "execution_count": 7
        }
      ]
    },
    {
      "cell_type": "markdown",
      "source": [
        "## No.3"
      ],
      "metadata": {
        "id": "QmhtMI96zhet"
      }
    },
    {
      "cell_type": "code",
      "source": [
        "list_id_category = ['c1', 'c2', 'c3', 'c4', 'c5', 'c6', 'c7', 'c8', 'c9', 'c10']\n"
      ],
      "metadata": {
        "id": "rS-PcMKT2GE1"
      },
      "execution_count": null,
      "outputs": []
    },
    {
      "cell_type": "code",
      "source": [
        "all_combinations = []\n",
        "\n",
        "for i in range(len(list_id_category)):\n",
        "    for j in range(len(list_id_category)):\n",
        "        for k in range(len(list_id_category)):\n",
        "            if i != j and i != k and j != k:\n",
        "                combination = sorted([list_id_category[i], list_id_category[j], list_id_category[k]])\n",
        "                if combination not in all_combinations:\n",
        "                    all_combinations.append(combination)\n"
      ],
      "metadata": {
        "id": "e9Klh4jXze_g"
      },
      "execution_count": null,
      "outputs": []
    },
    {
      "cell_type": "code",
      "source": [
        "print(\"Jumlah kemungkinan bundling yang bisa terbentuk:\", len(all_combinations))\n"
      ],
      "metadata": {
        "colab": {
          "base_uri": "https://localhost:8080/"
        },
        "id": "euf7ky-916e3",
        "outputId": "c0c7bba4-19f1-41b3-c1c0-837f99d4fb0f"
      },
      "execution_count": null,
      "outputs": [
        {
          "output_type": "stream",
          "name": "stdout",
          "text": [
            "Jumlah kemungkinan bundling yang bisa terbentuk: 120\n"
          ]
        }
      ]
    },
    {
      "cell_type": "markdown",
      "source": [
        "## No.4"
      ],
      "metadata": {
        "id": "3fCUY9vv2S56"
      }
    },
    {
      "cell_type": "code",
      "source": [
        "def string_processor(input_string, proses):\n",
        "    if proses == 'first_char':\n",
        "        return input_string[0] if input_string else None\n",
        "    elif proses == 'last_char':\n",
        "        return input_string[-1] if input_string else None\n",
        "    elif proses == 'num_chars':\n",
        "        return len(input_string)\n",
        "    elif proses == 'num_vowels':\n",
        "        vowels = 'aeiouAEIOU'\n",
        "        return sum(1 for char in input_string if char in vowels)\n",
        "    else:\n",
        "        return \"Proses tidak valid\""
      ],
      "metadata": {
        "id": "NmoJeKT22QVY"
      },
      "execution_count": null,
      "outputs": []
    },
    {
      "cell_type": "markdown",
      "source": [
        "## No.5"
      ],
      "metadata": {
        "id": "aIHi0u1D3beD"
      }
    },
    {
      "cell_type": "code",
      "source": [
        "import pandas as pd"
      ],
      "metadata": {
        "id": "Ckwf3_jL6Jwr"
      },
      "execution_count": null,
      "outputs": []
    },
    {
      "cell_type": "code",
      "source": [
        "rakamin_store_city_monthly=pd.read_csv('/content/drive/MyDrive/Rakamin/Week 6/Homework - Dataset/rakamin_store_city_monthly.csv')"
      ],
      "metadata": {
        "id": "AEVwCesk6V7X"
      },
      "execution_count": null,
      "outputs": []
    },
    {
      "cell_type": "code",
      "source": [
        "rakamin_store_city_monthly.info()"
      ],
      "metadata": {
        "colab": {
          "base_uri": "https://localhost:8080/"
        },
        "id": "nQOvCu1Q6wXg",
        "outputId": "69f2331e-0e89-48b4-f4f8-7570505382e6"
      },
      "execution_count": null,
      "outputs": [
        {
          "output_type": "stream",
          "name": "stdout",
          "text": [
            "<class 'pandas.core.frame.DataFrame'>\n",
            "RangeIndex: 126 entries, 0 to 125\n",
            "Data columns (total 1 columns):\n",
            " #   Column                                                                  Non-Null Count  Dtype \n",
            "---  ------                                                                  --------------  ----- \n",
            " 0   month;user_id;username;email;kota;total_visit;total_order;total_amount  126 non-null    object\n",
            "dtypes: object(1)\n",
            "memory usage: 1.1+ KB\n"
          ]
        }
      ]
    },
    {
      "cell_type": "code",
      "source": [
        "rakamin_store_city_monthly= rakamin_store_city_monthly['month;user_id;username;email;kota;total_visit;total_order;total_amount'].str.split(';', expand=True)"
      ],
      "metadata": {
        "id": "EvyKSYQE794x"
      },
      "execution_count": null,
      "outputs": []
    },
    {
      "cell_type": "code",
      "source": [
        "rakamin_store_city_monthly= rakamin_store_city_monthly.rename(columns={\n",
        "    0: 'month',\n",
        "    1: 'user_id',\n",
        "    2: 'username',\n",
        "    3: 'email',\n",
        "    4: 'kota',\n",
        "    5: 'total_visit',\n",
        "    6: 'total_order',\n",
        "    7: 'total_amount'\n",
        "})"
      ],
      "metadata": {
        "id": "SoCHOJS08bf3"
      },
      "execution_count": null,
      "outputs": []
    },
    {
      "cell_type": "code",
      "source": [
        "rakamin_store_city_monthly"
      ],
      "metadata": {
        "colab": {
          "base_uri": "https://localhost:8080/",
          "height": 423
        },
        "id": "yBnmpvBr9mQ7",
        "outputId": "f46459a9-0f7e-4d96-8132-22aa74e215d4"
      },
      "execution_count": null,
      "outputs": [
        {
          "output_type": "execute_result",
          "data": {
            "text/plain": [
              "       month user_id                 username  \\\n",
              "0    2016-01      16            Kevin Ningsih   \n",
              "1    2016-01      25            Sakti Hasaniy   \n",
              "2    2016-01      39              Izhar Halim   \n",
              "3    2016-02       8  Dikposa Yosua Krisnanto   \n",
              "4    2016-02      34          Ismail Wardhani   \n",
              "..       ...     ...                      ...   \n",
              "121  2020-12      75             June Andjani   \n",
              "122  2020-12      45              Maruto Asih   \n",
              "123  2020-12      50   Rizki Faishal Apriyani   \n",
              "124  2020-12      64     Amalia Widi Abelardo   \n",
              "125  2020-12      60             Putri Gasani   \n",
              "\n",
              "                                  email             kota total_visit  \\\n",
              "0            kevinningsih@roketmail.com  Jakarta Selatan          95   \n",
              "1              saktihasaniy@outlook.com    Jakarta Pusat          97   \n",
              "2                  izharhalim@gmail.com    Jakarta Timur          84   \n",
              "3     dikposayosuakrisnanto@hotmail.com    Jakarta Pusat         113   \n",
              "4            ismailwardhani@hotmail.com  Jakarta Selatan          25   \n",
              "..                                  ...              ...         ...   \n",
              "121               juneandjani@gmail.com    Jakarta Utara          60   \n",
              "122                marutoasih@yahoo.com    Jakarta Utara          44   \n",
              "123  rizkifaishalapriyani@roketmail.com    Jakarta Timur          28   \n",
              "124      amaliawidiabelardo@outlook.com            Depok          10   \n",
              "125                  putrigsn@gmail.com           Bekasi          80   \n",
              "\n",
              "    total_order total_amount  \n",
              "0            15        45724  \n",
              "1             1        26665  \n",
              "2            33       899001  \n",
              "3            11        22012  \n",
              "4             2        55620  \n",
              "..          ...          ...  \n",
              "121          26       645642  \n",
              "122          20        82843  \n",
              "123          17        35000  \n",
              "124          36       232972  \n",
              "125          70       540000  \n",
              "\n",
              "[126 rows x 8 columns]"
            ],
            "text/html": [
              "\n",
              "  <div id=\"df-300a312e-f1ef-4098-8476-026779bd74bc\" class=\"colab-df-container\">\n",
              "    <div>\n",
              "<style scoped>\n",
              "    .dataframe tbody tr th:only-of-type {\n",
              "        vertical-align: middle;\n",
              "    }\n",
              "\n",
              "    .dataframe tbody tr th {\n",
              "        vertical-align: top;\n",
              "    }\n",
              "\n",
              "    .dataframe thead th {\n",
              "        text-align: right;\n",
              "    }\n",
              "</style>\n",
              "<table border=\"1\" class=\"dataframe\">\n",
              "  <thead>\n",
              "    <tr style=\"text-align: right;\">\n",
              "      <th></th>\n",
              "      <th>month</th>\n",
              "      <th>user_id</th>\n",
              "      <th>username</th>\n",
              "      <th>email</th>\n",
              "      <th>kota</th>\n",
              "      <th>total_visit</th>\n",
              "      <th>total_order</th>\n",
              "      <th>total_amount</th>\n",
              "    </tr>\n",
              "  </thead>\n",
              "  <tbody>\n",
              "    <tr>\n",
              "      <th>0</th>\n",
              "      <td>2016-01</td>\n",
              "      <td>16</td>\n",
              "      <td>Kevin Ningsih</td>\n",
              "      <td>kevinningsih@roketmail.com</td>\n",
              "      <td>Jakarta Selatan</td>\n",
              "      <td>95</td>\n",
              "      <td>15</td>\n",
              "      <td>45724</td>\n",
              "    </tr>\n",
              "    <tr>\n",
              "      <th>1</th>\n",
              "      <td>2016-01</td>\n",
              "      <td>25</td>\n",
              "      <td>Sakti Hasaniy</td>\n",
              "      <td>saktihasaniy@outlook.com</td>\n",
              "      <td>Jakarta Pusat</td>\n",
              "      <td>97</td>\n",
              "      <td>1</td>\n",
              "      <td>26665</td>\n",
              "    </tr>\n",
              "    <tr>\n",
              "      <th>2</th>\n",
              "      <td>2016-01</td>\n",
              "      <td>39</td>\n",
              "      <td>Izhar Halim</td>\n",
              "      <td>izharhalim@gmail.com</td>\n",
              "      <td>Jakarta Timur</td>\n",
              "      <td>84</td>\n",
              "      <td>33</td>\n",
              "      <td>899001</td>\n",
              "    </tr>\n",
              "    <tr>\n",
              "      <th>3</th>\n",
              "      <td>2016-02</td>\n",
              "      <td>8</td>\n",
              "      <td>Dikposa Yosua Krisnanto</td>\n",
              "      <td>dikposayosuakrisnanto@hotmail.com</td>\n",
              "      <td>Jakarta Pusat</td>\n",
              "      <td>113</td>\n",
              "      <td>11</td>\n",
              "      <td>22012</td>\n",
              "    </tr>\n",
              "    <tr>\n",
              "      <th>4</th>\n",
              "      <td>2016-02</td>\n",
              "      <td>34</td>\n",
              "      <td>Ismail Wardhani</td>\n",
              "      <td>ismailwardhani@hotmail.com</td>\n",
              "      <td>Jakarta Selatan</td>\n",
              "      <td>25</td>\n",
              "      <td>2</td>\n",
              "      <td>55620</td>\n",
              "    </tr>\n",
              "    <tr>\n",
              "      <th>...</th>\n",
              "      <td>...</td>\n",
              "      <td>...</td>\n",
              "      <td>...</td>\n",
              "      <td>...</td>\n",
              "      <td>...</td>\n",
              "      <td>...</td>\n",
              "      <td>...</td>\n",
              "      <td>...</td>\n",
              "    </tr>\n",
              "    <tr>\n",
              "      <th>121</th>\n",
              "      <td>2020-12</td>\n",
              "      <td>75</td>\n",
              "      <td>June Andjani</td>\n",
              "      <td>juneandjani@gmail.com</td>\n",
              "      <td>Jakarta Utara</td>\n",
              "      <td>60</td>\n",
              "      <td>26</td>\n",
              "      <td>645642</td>\n",
              "    </tr>\n",
              "    <tr>\n",
              "      <th>122</th>\n",
              "      <td>2020-12</td>\n",
              "      <td>45</td>\n",
              "      <td>Maruto Asih</td>\n",
              "      <td>marutoasih@yahoo.com</td>\n",
              "      <td>Jakarta Utara</td>\n",
              "      <td>44</td>\n",
              "      <td>20</td>\n",
              "      <td>82843</td>\n",
              "    </tr>\n",
              "    <tr>\n",
              "      <th>123</th>\n",
              "      <td>2020-12</td>\n",
              "      <td>50</td>\n",
              "      <td>Rizki Faishal Apriyani</td>\n",
              "      <td>rizkifaishalapriyani@roketmail.com</td>\n",
              "      <td>Jakarta Timur</td>\n",
              "      <td>28</td>\n",
              "      <td>17</td>\n",
              "      <td>35000</td>\n",
              "    </tr>\n",
              "    <tr>\n",
              "      <th>124</th>\n",
              "      <td>2020-12</td>\n",
              "      <td>64</td>\n",
              "      <td>Amalia Widi Abelardo</td>\n",
              "      <td>amaliawidiabelardo@outlook.com</td>\n",
              "      <td>Depok</td>\n",
              "      <td>10</td>\n",
              "      <td>36</td>\n",
              "      <td>232972</td>\n",
              "    </tr>\n",
              "    <tr>\n",
              "      <th>125</th>\n",
              "      <td>2020-12</td>\n",
              "      <td>60</td>\n",
              "      <td>Putri Gasani</td>\n",
              "      <td>putrigsn@gmail.com</td>\n",
              "      <td>Bekasi</td>\n",
              "      <td>80</td>\n",
              "      <td>70</td>\n",
              "      <td>540000</td>\n",
              "    </tr>\n",
              "  </tbody>\n",
              "</table>\n",
              "<p>126 rows × 8 columns</p>\n",
              "</div>\n",
              "    <div class=\"colab-df-buttons\">\n",
              "\n",
              "  <div class=\"colab-df-container\">\n",
              "    <button class=\"colab-df-convert\" onclick=\"convertToInteractive('df-300a312e-f1ef-4098-8476-026779bd74bc')\"\n",
              "            title=\"Convert this dataframe to an interactive table.\"\n",
              "            style=\"display:none;\">\n",
              "\n",
              "  <svg xmlns=\"http://www.w3.org/2000/svg\" height=\"24px\" viewBox=\"0 -960 960 960\">\n",
              "    <path d=\"M120-120v-720h720v720H120Zm60-500h600v-160H180v160Zm220 220h160v-160H400v160Zm0 220h160v-160H400v160ZM180-400h160v-160H180v160Zm440 0h160v-160H620v160ZM180-180h160v-160H180v160Zm440 0h160v-160H620v160Z\"/>\n",
              "  </svg>\n",
              "    </button>\n",
              "\n",
              "  <style>\n",
              "    .colab-df-container {\n",
              "      display:flex;\n",
              "      gap: 12px;\n",
              "    }\n",
              "\n",
              "    .colab-df-convert {\n",
              "      background-color: #E8F0FE;\n",
              "      border: none;\n",
              "      border-radius: 50%;\n",
              "      cursor: pointer;\n",
              "      display: none;\n",
              "      fill: #1967D2;\n",
              "      height: 32px;\n",
              "      padding: 0 0 0 0;\n",
              "      width: 32px;\n",
              "    }\n",
              "\n",
              "    .colab-df-convert:hover {\n",
              "      background-color: #E2EBFA;\n",
              "      box-shadow: 0px 1px 2px rgba(60, 64, 67, 0.3), 0px 1px 3px 1px rgba(60, 64, 67, 0.15);\n",
              "      fill: #174EA6;\n",
              "    }\n",
              "\n",
              "    .colab-df-buttons div {\n",
              "      margin-bottom: 4px;\n",
              "    }\n",
              "\n",
              "    [theme=dark] .colab-df-convert {\n",
              "      background-color: #3B4455;\n",
              "      fill: #D2E3FC;\n",
              "    }\n",
              "\n",
              "    [theme=dark] .colab-df-convert:hover {\n",
              "      background-color: #434B5C;\n",
              "      box-shadow: 0px 1px 3px 1px rgba(0, 0, 0, 0.15);\n",
              "      filter: drop-shadow(0px 1px 2px rgba(0, 0, 0, 0.3));\n",
              "      fill: #FFFFFF;\n",
              "    }\n",
              "  </style>\n",
              "\n",
              "    <script>\n",
              "      const buttonEl =\n",
              "        document.querySelector('#df-300a312e-f1ef-4098-8476-026779bd74bc button.colab-df-convert');\n",
              "      buttonEl.style.display =\n",
              "        google.colab.kernel.accessAllowed ? 'block' : 'none';\n",
              "\n",
              "      async function convertToInteractive(key) {\n",
              "        const element = document.querySelector('#df-300a312e-f1ef-4098-8476-026779bd74bc');\n",
              "        const dataTable =\n",
              "          await google.colab.kernel.invokeFunction('convertToInteractive',\n",
              "                                                    [key], {});\n",
              "        if (!dataTable) return;\n",
              "\n",
              "        const docLinkHtml = 'Like what you see? Visit the ' +\n",
              "          '<a target=\"_blank\" href=https://colab.research.google.com/notebooks/data_table.ipynb>data table notebook</a>'\n",
              "          + ' to learn more about interactive tables.';\n",
              "        element.innerHTML = '';\n",
              "        dataTable['output_type'] = 'display_data';\n",
              "        await google.colab.output.renderOutput(dataTable, element);\n",
              "        const docLink = document.createElement('div');\n",
              "        docLink.innerHTML = docLinkHtml;\n",
              "        element.appendChild(docLink);\n",
              "      }\n",
              "    </script>\n",
              "  </div>\n",
              "\n",
              "\n",
              "<div id=\"df-60a3409b-6a8c-4de4-8d73-b1f348e71817\">\n",
              "  <button class=\"colab-df-quickchart\" onclick=\"quickchart('df-60a3409b-6a8c-4de4-8d73-b1f348e71817')\"\n",
              "            title=\"Suggest charts\"\n",
              "            style=\"display:none;\">\n",
              "\n",
              "<svg xmlns=\"http://www.w3.org/2000/svg\" height=\"24px\"viewBox=\"0 0 24 24\"\n",
              "     width=\"24px\">\n",
              "    <g>\n",
              "        <path d=\"M19 3H5c-1.1 0-2 .9-2 2v14c0 1.1.9 2 2 2h14c1.1 0 2-.9 2-2V5c0-1.1-.9-2-2-2zM9 17H7v-7h2v7zm4 0h-2V7h2v10zm4 0h-2v-4h2v4z\"/>\n",
              "    </g>\n",
              "</svg>\n",
              "  </button>\n",
              "\n",
              "<style>\n",
              "  .colab-df-quickchart {\n",
              "      --bg-color: #E8F0FE;\n",
              "      --fill-color: #1967D2;\n",
              "      --hover-bg-color: #E2EBFA;\n",
              "      --hover-fill-color: #174EA6;\n",
              "      --disabled-fill-color: #AAA;\n",
              "      --disabled-bg-color: #DDD;\n",
              "  }\n",
              "\n",
              "  [theme=dark] .colab-df-quickchart {\n",
              "      --bg-color: #3B4455;\n",
              "      --fill-color: #D2E3FC;\n",
              "      --hover-bg-color: #434B5C;\n",
              "      --hover-fill-color: #FFFFFF;\n",
              "      --disabled-bg-color: #3B4455;\n",
              "      --disabled-fill-color: #666;\n",
              "  }\n",
              "\n",
              "  .colab-df-quickchart {\n",
              "    background-color: var(--bg-color);\n",
              "    border: none;\n",
              "    border-radius: 50%;\n",
              "    cursor: pointer;\n",
              "    display: none;\n",
              "    fill: var(--fill-color);\n",
              "    height: 32px;\n",
              "    padding: 0;\n",
              "    width: 32px;\n",
              "  }\n",
              "\n",
              "  .colab-df-quickchart:hover {\n",
              "    background-color: var(--hover-bg-color);\n",
              "    box-shadow: 0 1px 2px rgba(60, 64, 67, 0.3), 0 1px 3px 1px rgba(60, 64, 67, 0.15);\n",
              "    fill: var(--button-hover-fill-color);\n",
              "  }\n",
              "\n",
              "  .colab-df-quickchart-complete:disabled,\n",
              "  .colab-df-quickchart-complete:disabled:hover {\n",
              "    background-color: var(--disabled-bg-color);\n",
              "    fill: var(--disabled-fill-color);\n",
              "    box-shadow: none;\n",
              "  }\n",
              "\n",
              "  .colab-df-spinner {\n",
              "    border: 2px solid var(--fill-color);\n",
              "    border-color: transparent;\n",
              "    border-bottom-color: var(--fill-color);\n",
              "    animation:\n",
              "      spin 1s steps(1) infinite;\n",
              "  }\n",
              "\n",
              "  @keyframes spin {\n",
              "    0% {\n",
              "      border-color: transparent;\n",
              "      border-bottom-color: var(--fill-color);\n",
              "      border-left-color: var(--fill-color);\n",
              "    }\n",
              "    20% {\n",
              "      border-color: transparent;\n",
              "      border-left-color: var(--fill-color);\n",
              "      border-top-color: var(--fill-color);\n",
              "    }\n",
              "    30% {\n",
              "      border-color: transparent;\n",
              "      border-left-color: var(--fill-color);\n",
              "      border-top-color: var(--fill-color);\n",
              "      border-right-color: var(--fill-color);\n",
              "    }\n",
              "    40% {\n",
              "      border-color: transparent;\n",
              "      border-right-color: var(--fill-color);\n",
              "      border-top-color: var(--fill-color);\n",
              "    }\n",
              "    60% {\n",
              "      border-color: transparent;\n",
              "      border-right-color: var(--fill-color);\n",
              "    }\n",
              "    80% {\n",
              "      border-color: transparent;\n",
              "      border-right-color: var(--fill-color);\n",
              "      border-bottom-color: var(--fill-color);\n",
              "    }\n",
              "    90% {\n",
              "      border-color: transparent;\n",
              "      border-bottom-color: var(--fill-color);\n",
              "    }\n",
              "  }\n",
              "</style>\n",
              "\n",
              "  <script>\n",
              "    async function quickchart(key) {\n",
              "      const quickchartButtonEl =\n",
              "        document.querySelector('#' + key + ' button');\n",
              "      quickchartButtonEl.disabled = true;  // To prevent multiple clicks.\n",
              "      quickchartButtonEl.classList.add('colab-df-spinner');\n",
              "      try {\n",
              "        const charts = await google.colab.kernel.invokeFunction(\n",
              "            'suggestCharts', [key], {});\n",
              "      } catch (error) {\n",
              "        console.error('Error during call to suggestCharts:', error);\n",
              "      }\n",
              "      quickchartButtonEl.classList.remove('colab-df-spinner');\n",
              "      quickchartButtonEl.classList.add('colab-df-quickchart-complete');\n",
              "    }\n",
              "    (() => {\n",
              "      let quickchartButtonEl =\n",
              "        document.querySelector('#df-60a3409b-6a8c-4de4-8d73-b1f348e71817 button');\n",
              "      quickchartButtonEl.style.display =\n",
              "        google.colab.kernel.accessAllowed ? 'block' : 'none';\n",
              "    })();\n",
              "  </script>\n",
              "</div>\n",
              "    </div>\n",
              "  </div>\n"
            ],
            "application/vnd.google.colaboratory.intrinsic+json": {
              "type": "dataframe",
              "variable_name": "rakamin_store_city_monthly",
              "summary": "{\n  \"name\": \"rakamin_store_city_monthly\",\n  \"rows\": 126,\n  \"fields\": [\n    {\n      \"column\": \"month\",\n      \"properties\": {\n        \"dtype\": \"object\",\n        \"num_unique_values\": 53,\n        \"samples\": [\n          \"2017-10\",\n          \"2019-12\",\n          \"2020-07\"\n        ],\n        \"semantic_type\": \"\",\n        \"description\": \"\"\n      }\n    },\n    {\n      \"column\": \"user_id\",\n      \"properties\": {\n        \"dtype\": \"string\",\n        \"num_unique_values\": 65,\n        \"samples\": [\n          \"62\",\n          \"10\",\n          \"16\"\n        ],\n        \"semantic_type\": \"\",\n        \"description\": \"\"\n      }\n    },\n    {\n      \"column\": \"username\",\n      \"properties\": {\n        \"dtype\": \"string\",\n        \"num_unique_values\": 66,\n        \"samples\": [\n          \"Omar Afini\",\n          \"Rizki Faishal Apriyani\",\n          \"Kevin Ningsih\"\n        ],\n        \"semantic_type\": \"\",\n        \"description\": \"\"\n      }\n    },\n    {\n      \"column\": \"email\",\n      \"properties\": {\n        \"dtype\": \"string\",\n        \"num_unique_values\": 66,\n        \"samples\": [\n          \"omarafini@gmail.com\",\n          \"rizkifaishalapriyani@roketmail.com\",\n          \"kevinningsih@roketmail.com\"\n        ],\n        \"semantic_type\": \"\",\n        \"description\": \"\"\n      }\n    },\n    {\n      \"column\": \"kota\",\n      \"properties\": {\n        \"dtype\": \"category\",\n        \"num_unique_values\": 8,\n        \"samples\": [\n          \"Jakarta Pusat\",\n          \"Jakarta Utara\",\n          \"Jakarta Selatan\"\n        ],\n        \"semantic_type\": \"\",\n        \"description\": \"\"\n      }\n    },\n    {\n      \"column\": \"total_visit\",\n      \"properties\": {\n        \"dtype\": \"category\",\n        \"num_unique_values\": 52,\n        \"samples\": [\n          \"100\",\n          \"66\",\n          \"101\"\n        ],\n        \"semantic_type\": \"\",\n        \"description\": \"\"\n      }\n    },\n    {\n      \"column\": \"total_order\",\n      \"properties\": {\n        \"dtype\": \"category\",\n        \"num_unique_values\": 37,\n        \"samples\": [\n          \"9\",\n          \"32\",\n          \"2\"\n        ],\n        \"semantic_type\": \"\",\n        \"description\": \"\"\n      }\n    },\n    {\n      \"column\": \"total_amount\",\n      \"properties\": {\n        \"dtype\": \"string\",\n        \"num_unique_values\": 105,\n        \"samples\": [\n          \"87046\",\n          \"800060\",\n          \"970183\"\n        ],\n        \"semantic_type\": \"\",\n        \"description\": \"\"\n      }\n    }\n  ]\n}"
            }
          },
          "metadata": {},
          "execution_count": 17
        }
      ]
    },
    {
      "cell_type": "code",
      "source": [
        "rakamin_store_city_monthly['tahun'] = rakamin_store_city_monthly['month'].apply(lambda x: x.split('-')[0])"
      ],
      "metadata": {
        "id": "kbS0FJ563Go_"
      },
      "execution_count": null,
      "outputs": []
    },
    {
      "cell_type": "code",
      "source": [
        "rakamin_store_city_monthly['is_gmail'] = rakamin_store_city_monthly['email'].apply(lambda x: True if 'gmail.com' in x else False)"
      ],
      "metadata": {
        "id": "-3mzwqWB6sf_"
      },
      "execution_count": null,
      "outputs": []
    },
    {
      "cell_type": "code",
      "source": [
        "jumlah_gmail_2018 = rakamin_store_city_monthly[(rakamin_store_city_monthly['tahun'] == '2018') & (rakamin_store_city_monthly['is_gmail'] == True)].shape[0]"
      ],
      "metadata": {
        "id": "leS9vaxP--RP"
      },
      "execution_count": null,
      "outputs": []
    },
    {
      "cell_type": "code",
      "source": [
        "jumlah_gmail_2018"
      ],
      "metadata": {
        "colab": {
          "base_uri": "https://localhost:8080/"
        },
        "id": "oGmAif51_CiD",
        "outputId": "cc7c0696-d3ef-4cd7-e3a2-bea3f6c0fdbe"
      },
      "execution_count": null,
      "outputs": [
        {
          "output_type": "execute_result",
          "data": {
            "text/plain": [
              "3"
            ]
          },
          "metadata": {},
          "execution_count": 21
        }
      ]
    },
    {
      "cell_type": "markdown",
      "source": [
        "## No.6"
      ],
      "metadata": {
        "id": "jHn7lMDNBouD"
      }
    },
    {
      "cell_type": "code",
      "source": [
        "superstore = pd.read_excel('/content/drive/MyDrive/Rakamin/Week 6/Homework - Dataset/superstore.xls')"
      ],
      "metadata": {
        "id": "tOX4ivjPAymD"
      },
      "execution_count": null,
      "outputs": []
    },
    {
      "cell_type": "code",
      "source": [
        "superstore.info()"
      ],
      "metadata": {
        "colab": {
          "base_uri": "https://localhost:8080/"
        },
        "id": "ImAGGbq2DGPD",
        "outputId": "d8efffdb-1458-45b2-b626-e7a1f33bfc49"
      },
      "execution_count": null,
      "outputs": [
        {
          "output_type": "stream",
          "name": "stdout",
          "text": [
            "<class 'pandas.core.frame.DataFrame'>\n",
            "RangeIndex: 9994 entries, 0 to 9993\n",
            "Data columns (total 21 columns):\n",
            " #   Column         Non-Null Count  Dtype         \n",
            "---  ------         --------------  -----         \n",
            " 0   Row ID         9994 non-null   int64         \n",
            " 1   Order ID       9994 non-null   object        \n",
            " 2   Order Date     9994 non-null   datetime64[ns]\n",
            " 3   Ship Date      9994 non-null   datetime64[ns]\n",
            " 4   Ship Mode      9994 non-null   object        \n",
            " 5   Customer ID    9994 non-null   object        \n",
            " 6   Customer Name  9994 non-null   object        \n",
            " 7   Segment        9994 non-null   object        \n",
            " 8   Country        9994 non-null   object        \n",
            " 9   City           9994 non-null   object        \n",
            " 10  State          9994 non-null   object        \n",
            " 11  Postal Code    9994 non-null   int64         \n",
            " 12  Region         9994 non-null   object        \n",
            " 13  Product ID     9994 non-null   object        \n",
            " 14  Category       9994 non-null   object        \n",
            " 15  Sub-Category   9994 non-null   object        \n",
            " 16  Product Name   9994 non-null   object        \n",
            " 17  Sales          9994 non-null   float64       \n",
            " 18  Quantity       9994 non-null   int64         \n",
            " 19  Discount       9994 non-null   float64       \n",
            " 20  Profit         9994 non-null   float64       \n",
            "dtypes: datetime64[ns](2), float64(3), int64(3), object(13)\n",
            "memory usage: 1.6+ MB\n"
          ]
        }
      ]
    },
    {
      "cell_type": "code",
      "source": [
        "def calculate_sales_profit(region, year=2017):\n",
        "    # Ubah kolom Order Date menjadi tipe data datetime\n",
        "    superstore['Order Date'] = pd.to_datetime(superstore['Order Date'])\n",
        "\n",
        "    # Ekstrak tahun dari kolom Order Date\n",
        "    superstore['Year'] = superstore['Order Date'].dt.year\n",
        "\n",
        "    # Filter data berdasarkan tahun dan region\n",
        "    filtered_data = superstore[(superstore['Region'] == region) & (superstore['Year'] == year)]\n",
        "\n",
        "    # Agregasi data berdasarkan tahun dan region, dan hitung total sales dan profit\n",
        "    aggregated_data = filtered_data.groupby(['Region', 'Year']).agg({'Sales': 'sum', 'Profit': 'sum'}).reset_index()\n",
        "\n",
        "    # Ambil total sales dan profit dari hasil agregasi\n",
        "    total_sales = aggregated_data.loc[aggregated_data['Region'] == region, 'Sales'].values[0]\n",
        "    total_profit = aggregated_data.loc[aggregated_data['Region'] == region, 'Profit'].values[0]\n",
        "\n",
        "    return total_sales, total_profit"
      ],
      "metadata": {
        "id": "Kw8lj4ryDLLo"
      },
      "execution_count": null,
      "outputs": []
    },
    {
      "cell_type": "code",
      "source": [
        "superstore.columns"
      ],
      "metadata": {
        "colab": {
          "base_uri": "https://localhost:8080/"
        },
        "id": "X-ueJ0PSMMq0",
        "outputId": "c4a2764e-cc07-4fc7-9c6f-36a29b7843ae"
      },
      "execution_count": null,
      "outputs": [
        {
          "output_type": "execute_result",
          "data": {
            "text/plain": [
              "Index(['Row ID', 'Order ID', 'Order Date', 'Ship Date', 'Ship Mode',\n",
              "       'Customer ID', 'Customer Name', 'Segment', 'Country', 'City', 'State',\n",
              "       'Postal Code', 'Region', 'Product ID', 'Category', 'Sub-Category',\n",
              "       'Product Name', 'Sales', 'Quantity', 'Discount', 'Profit', 'Year'],\n",
              "      dtype='object')"
            ]
          },
          "metadata": {},
          "execution_count": 29
        }
      ]
    },
    {
      "cell_type": "code",
      "source": [
        "superstore.Region.unique()"
      ],
      "metadata": {
        "colab": {
          "base_uri": "https://localhost:8080/"
        },
        "id": "eMoRtFDpMaKG",
        "outputId": "36241ccd-3053-42d9-d7bf-44e11d8dc8ec"
      },
      "execution_count": null,
      "outputs": [
        {
          "output_type": "execute_result",
          "data": {
            "text/plain": [
              "array(['South', 'West', 'Central', 'East'], dtype=object)"
            ]
          },
          "metadata": {},
          "execution_count": 30
        }
      ]
    },
    {
      "cell_type": "code",
      "source": [
        "# Hitung total sales dan profit untuk South Region pada tahun 2016\n",
        "sales_2016_South, profit_2016_South = calculate_sales_profit(region='South', year=2016)\n",
        "print(\"Total sales di South Region pada tahun 2016:\", sales_2016_South)\n",
        "print(\"Total profit di South Region pada tahun 2016:\", profit_2016_South)\n",
        "\n",
        "# Hitung total sales dan profit untuk West Region pada tahun 2017 (default)\n",
        "sales_2017_West, profit_2017_West = calculate_sales_profit(region='West')\n",
        "print(\"Total sales di West Region pada tahun 2017:\", sales_2017_West)\n",
        "print(\"Total profit di West Region pada tahun 2017:\", profit_2017_West)"
      ],
      "metadata": {
        "colab": {
          "base_uri": "https://localhost:8080/"
        },
        "id": "sov-5omdK6Y1",
        "outputId": "ccaf59a5-b5b9-43b7-cdb9-5503e17b32d7"
      },
      "execution_count": null,
      "outputs": [
        {
          "output_type": "stream",
          "name": "stdout",
          "text": [
            "Total sales di South Region pada tahun 2016: 93610.22350000001\n",
            "Total profit di South Region pada tahun 2016: 17702.808399999998\n",
            "Total sales di West Region pada tahun 2017: 250128.3655\n",
            "Total profit di West Region pada tahun 2017: 43808.956099999996\n"
          ]
        }
      ]
    },
    {
      "cell_type": "markdown",
      "source": [
        "## No.7"
      ],
      "metadata": {
        "id": "Wdjrue6tN5YA"
      }
    },
    {
      "cell_type": "code",
      "source": [
        "superstore['Order Date'] = pd.to_datetime(superstore['Order Date'])\n",
        "superstore['Year'] = superstore['Order Date'].dt.year"
      ],
      "metadata": {
        "id": "l18Zd5cUPwp9"
      },
      "execution_count": null,
      "outputs": []
    },
    {
      "cell_type": "code",
      "source": [
        "customer_sales = superstore[superstore['Year'] == 2017].groupby('Customer ID')['Sales'].sum()"
      ],
      "metadata": {
        "id": "Dk72hw1jPzYN"
      },
      "execution_count": null,
      "outputs": []
    },
    {
      "cell_type": "code",
      "source": [
        "sales_threshold = customer_sales.describe(percentiles=[0.33, 0.66])"
      ],
      "metadata": {
        "id": "qpY3pNaSP2bb"
      },
      "execution_count": null,
      "outputs": []
    },
    {
      "cell_type": "code",
      "source": [
        "sales_threshold"
      ],
      "metadata": {
        "colab": {
          "base_uri": "https://localhost:8080/"
        },
        "id": "A1xgh2miSqF7",
        "outputId": "58ad50aa-558f-4ee9-8448-e55ac7f36e04"
      },
      "execution_count": null,
      "outputs": [
        {
          "output_type": "execute_result",
          "data": {
            "text/plain": [
              "count      693.000000\n",
              "mean      1058.030671\n",
              "std       1463.910713\n",
              "min          1.188000\n",
              "33%        304.345840\n",
              "50%        604.910000\n",
              "66%       1007.212960\n",
              "max      14203.278000\n",
              "Name: Sales, dtype: float64"
            ]
          },
          "metadata": {},
          "execution_count": 38
        }
      ]
    },
    {
      "cell_type": "code",
      "source": [
        "def categorize_segment(sales):\n",
        "    if pd.isna(sales_threshold['33%']) or pd.isna(sales_threshold['66%']):\n",
        "        return 'Not enough data'\n",
        "    elif sales is None:\n",
        "        return 'Data missing'\n",
        "    elif pd.isna(sales_threshold['33%']):\n",
        "        return 'Sales threshold not available'\n",
        "    elif sales <= sales_threshold['33%']:\n",
        "        return 'Low'\n",
        "    elif sales <= sales_threshold['66%']:\n",
        "        return 'Medium'\n",
        "    else:\n",
        "        return 'High'"
      ],
      "metadata": {
        "id": "tdg0KueGQHRU"
      },
      "execution_count": null,
      "outputs": []
    },
    {
      "cell_type": "code",
      "source": [
        "superstore['Segment'] = superstore.apply(lambda row: categorize_segment(customer_sales.get(row['Customer ID'])), axis=1)"
      ],
      "metadata": {
        "id": "WFOzSKCUQS88"
      },
      "execution_count": null,
      "outputs": []
    },
    {
      "cell_type": "code",
      "source": [
        "superstore['Segment']"
      ],
      "metadata": {
        "colab": {
          "base_uri": "https://localhost:8080/"
        },
        "id": "hxYMhcsvT-xF",
        "outputId": "12cf824c-3545-4023-fcea-760cb90eaade"
      },
      "execution_count": null,
      "outputs": [
        {
          "output_type": "execute_result",
          "data": {
            "text/plain": [
              "0          Low\n",
              "1          Low\n",
              "2         High\n",
              "3       Medium\n",
              "4       Medium\n",
              "         ...  \n",
              "9989    Medium\n",
              "9990      High\n",
              "9991      High\n",
              "9992      High\n",
              "9993      High\n",
              "Name: Segment, Length: 9994, dtype: object"
            ]
          },
          "metadata": {},
          "execution_count": 42
        }
      ]
    },
    {
      "cell_type": "code",
      "source": [
        "try:\n",
        "    segment_counts = superstore[superstore['Year'] == 2017]['Segment'].value_counts()\n",
        "    print(\"Jumlah customer pada masing-masing segment di tahun 2017:\")\n",
        "    print(segment_counts)\n",
        "except Exception as e:\n",
        "    print(\"Error:\", e)"
      ],
      "metadata": {
        "colab": {
          "base_uri": "https://localhost:8080/"
        },
        "id": "1VeWZKQ0LAgd",
        "outputId": "35435d80-ba6d-4664-d6b0-9cc3c507331a"
      },
      "execution_count": null,
      "outputs": [
        {
          "output_type": "stream",
          "name": "stdout",
          "text": [
            "Jumlah customer pada masing-masing segment di tahun 2017:\n",
            "High      1682\n",
            "Medium    1064\n",
            "Low        566\n",
            "Name: Segment, dtype: int64\n"
          ]
        }
      ]
    },
    {
      "cell_type": "code",
      "source": [],
      "metadata": {
        "id": "BYi0QulgT4ca"
      },
      "execution_count": null,
      "outputs": []
    }
  ]
}